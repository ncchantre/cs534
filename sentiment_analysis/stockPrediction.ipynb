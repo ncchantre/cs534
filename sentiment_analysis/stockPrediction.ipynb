{
  "nbformat": 4,
  "nbformat_minor": 0,
  "metadata": {
    "colab": {
      "provenance": []
    },
    "kernelspec": {
      "name": "python3",
      "display_name": "Python 3"
    },
    "language_info": {
      "name": "python"
    }
  },
  "cells": [
    {
      "cell_type": "code",
      "execution_count": null,
      "metadata": {
        "colab": {
          "base_uri": "https://localhost:8080/"
        },
        "id": "it8-LmIY71qx",
        "outputId": "f869f210-af81-4ea3-c226-6997a18781b3"
      },
      "outputs": [
        {
          "output_type": "stream",
          "name": "stderr",
          "text": [
            "/usr/local/lib/python3.10/dist-packages/statsmodels/tsa/statespace/sarimax.py:866: UserWarning: Too few observations to estimate starting parameters for ARMA and trend. All parameters except for variances will be set to zeros.\n",
            "  warn('Too few observations to estimate starting parameters%s.'\n"
          ]
        },
        {
          "output_type": "stream",
          "name": "stdout",
          "text": [
            "Forecasted Stock Prices for Next 5 Days:\n",
            "5    168.823572\n",
            "6    169.735508\n",
            "7    166.578506\n",
            "8    162.649990\n",
            "9    165.058977\n",
            "Name: predicted_mean, dtype: float64\n"
          ]
        },
        {
          "output_type": "stream",
          "name": "stderr",
          "text": [
            "/usr/local/lib/python3.10/dist-packages/statsmodels/base/model.py:607: ConvergenceWarning: Maximum Likelihood optimization failed to converge. Check mle_retvals\n",
            "  warnings.warn(\"Maximum Likelihood optimization failed to \"\n"
          ]
        }
      ],
      "source": [
        "import pandas as pd\n",
        "import numpy as np\n",
        "from statsmodels.tsa.arima.model import ARIMA\n",
        "\n",
        "#Sample Data\n",
        "reddit_data = pd.DataFrame({\n",
        "    'date': ['2022-01-03', '2022-01-04', '2022-01-05', '2022-01-06', '2022-01-07'],\n",
        "    'assigned_sentiment': [0.530607, 0.506639, 0.485243, -0.541505, 0.493628],\n",
        "    'topic_weight': [0.7, 0.7, 0.3, 0.3, 0.7]\n",
        "})\n",
        "\n",
        "amazon_stock_data = pd.DataFrame({\n",
        "    'date': ['2022-01-03', '2022-01-04', '2022-01-05', '2022-01-06', '2022-01-07'],\n",
        "    'stock_price': [167.55, 170.44, 166.88, 163.45, 163.84]\n",
        "})\n",
        "\n",
        "#Merge the stock price data(will eventually be csv) with the reddit data(will also be reformatted csv to add decimal sentiment values, topic weights and dates for each post)\n",
        "data = pd.merge(amazon_stock_data, reddit_data, on='date', how='inner')\n",
        "\n",
        "#Sort the data by date\n",
        "data = data.sort_values(by='date').reset_index(drop=True)\n",
        "\n",
        "#Calculate lagged sentiment scores and weighted topic scores\n",
        "data['lagged_sentiment_score'] = data['assigned_sentiment'].shift(1)\n",
        "data['weighted_topic_score'] = data['assigned_sentiment'] * data['topic_weight']\n",
        "\n",
        "#Feature Preparation\n",
        "x = data[['assigned_sentiment', 'lagged_sentiment_score', 'weighted_topic_score']]\n",
        "y = data['stock_price']\n",
        "\n",
        "#Incorporate ARIMA model\n",
        "model = ARIMA(y, order=(5,1,0))\n",
        "model_fit = model.fit()\n",
        "\n",
        "#Predict stock for next 5 days\n",
        "forecast= model_fit.forecast(steps=5)\n",
        "\n",
        "#Print forecast\n",
        "print(\"Forecasted Stock Prices for Next 5 Days:\")\n",
        "print(forecast)"
      ]
    },
    {
      "cell_type": "code",
      "source": [],
      "metadata": {
        "id": "YUmmoaic9gSn"
      },
      "execution_count": null,
      "outputs": []
    }
  ]
}